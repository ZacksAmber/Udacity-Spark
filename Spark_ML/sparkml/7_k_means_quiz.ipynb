{
 "cells": [
  {
   "cell_type": "markdown",
   "metadata": {},
   "source": [
    "# K-Means Quiz\n",
    "Use this Jupyter notebook to find the answers to the quiz in the previous section. There is an answer key in the next part of the lesson.\n",
    "\n",
    "We might want to take a look at the distribution of the Title+Body length feature we used before and instead of using the raw number of words create categories based on this length: short, longer,..., super long.\n",
    "\n",
    "In the questions below I'll refer to length of the combined Title and Body fields as Description length (and by length we mean the number of words when the text is tokenized with pattern=\"\\W\")."
   ]
  },
  {
   "cell_type": "code",
   "execution_count": 1,
   "metadata": {},
   "outputs": [],
   "source": [
    "from pyspark.sql import SparkSession\n",
    "\n",
    "# TODOS: \n",
    "# 1) import any other libraries you might need\n",
    "# 2) run the cells below to read the dataset and extract description length features\n",
    "# 3) write code to answer the quiz questions\n",
    "from pyspark.sql.functions import col, concat, lit, max, min, avg, stddev, count, udf\n",
    "from pyspark.ml.feature import RegexTokenizer, VectorAssembler\n",
    "from pyspark.sql.types import IntegerType\n",
    "from pyspark.ml.regression import LinearRegression\n",
    "from pyspark.ml.clustering import KMeans"
   ]
  },
  {
   "cell_type": "code",
   "execution_count": 2,
   "metadata": {},
   "outputs": [
    {
     "name": "stderr",
     "output_type": "stream",
     "text": [
      "WARNING: An illegal reflective access operation has occurred\n",
      "WARNING: Illegal reflective access by org.apache.spark.unsafe.Platform (file:/usr/local/lib/python3.9/site-packages/pyspark/jars/spark-unsafe_2.12-3.2.0.jar) to constructor java.nio.DirectByteBuffer(long,int)\n",
      "WARNING: Please consider reporting this to the maintainers of org.apache.spark.unsafe.Platform\n",
      "WARNING: Use --illegal-access=warn to enable warnings of further illegal reflective access operations\n",
      "WARNING: All illegal access operations will be denied in a future release\n",
      "Using Spark's default log4j profile: org/apache/spark/log4j-defaults.properties\n",
      "Setting default log level to \"WARN\".\n",
      "To adjust logging level use sc.setLogLevel(newLevel). For SparkR, use setLogLevel(newLevel).\n",
      "22/01/13 23:45:04 WARN NativeCodeLoader: Unable to load native-hadoop library for your platform... using builtin-java classes where applicable\n",
      "22/01/13 23:45:04 WARN Utils: Service 'SparkUI' could not bind on port 4040. Attempting port 4041.\n"
     ]
    }
   ],
   "source": [
    "spark = SparkSession.builder \\\n",
    "    .master(\"local\") \\\n",
    "    .appName(\"Creating Features\") \\\n",
    "    .getOrCreate()"
   ]
  },
  {
   "cell_type": "markdown",
   "metadata": {},
   "source": [
    "### Read Dataset"
   ]
  },
  {
   "cell_type": "code",
   "execution_count": 3,
   "metadata": {},
   "outputs": [],
   "source": [
    "stack_overflow_data = 'Train_onetag_small.json'"
   ]
  },
  {
   "cell_type": "code",
   "execution_count": 4,
   "metadata": {},
   "outputs": [
    {
     "name": "stderr",
     "output_type": "stream",
     "text": [
      "                                                                                \r"
     ]
    },
    {
     "data": {
      "text/plain": [
       "DataFrame[Body: string, Id: bigint, Tags: string, Title: string, oneTag: string]"
      ]
     },
     "execution_count": 4,
     "metadata": {},
     "output_type": "execute_result"
    }
   ],
   "source": [
    "df = spark.read.json(stack_overflow_data)\n",
    "df.persist()"
   ]
  },
  {
   "cell_type": "markdown",
   "metadata": {},
   "source": [
    "### Build Description Length Features"
   ]
  },
  {
   "cell_type": "code",
   "execution_count": 5,
   "metadata": {},
   "outputs": [],
   "source": [
    "df = df.withColumn(\"Desc\", concat(col(\"Title\"), lit(' '), col(\"Body\")))"
   ]
  },
  {
   "cell_type": "code",
   "execution_count": 6,
   "metadata": {},
   "outputs": [],
   "source": [
    "regexTokenizer = RegexTokenizer(inputCol=\"Desc\", outputCol=\"words\", pattern=\"\\\\W\")\n",
    "df = regexTokenizer.transform(df)"
   ]
  },
  {
   "cell_type": "code",
   "execution_count": 7,
   "metadata": {},
   "outputs": [],
   "source": [
    "body_length = udf(lambda x: len(x), IntegerType())\n",
    "df = df.withColumn(\"DescLength\", body_length(df.words))"
   ]
  },
  {
   "cell_type": "code",
   "execution_count": 8,
   "metadata": {},
   "outputs": [],
   "source": [
    "assembler = VectorAssembler(inputCols=[\"DescLength\"], outputCol=\"DescVec\")\n",
    "df = assembler.transform(df)"
   ]
  },
  {
   "cell_type": "code",
   "execution_count": 9,
   "metadata": {},
   "outputs": [],
   "source": [
    "number_of_tags = udf(lambda x: len(x.split(\" \")), IntegerType())\n",
    "df = df.withColumn(\"NumTags\", number_of_tags(df.Tags))"
   ]
  },
  {
   "cell_type": "code",
   "execution_count": 10,
   "metadata": {},
   "outputs": [
    {
     "name": "stderr",
     "output_type": "stream",
     "text": [
      "Traceback (most recent call last):                                  (0 + 1) / 1]\n",
      "  File \"/usr/local/lib/python3.9/site-packages/pyspark/python/lib/pyspark.zip/pyspark/daemon.py\", line 186, in manager\n",
      "  File \"/usr/local/lib/python3.9/site-packages/pyspark/python/lib/pyspark.zip/pyspark/daemon.py\", line 74, in worker\n",
      "  File \"/usr/local/lib/python3.9/site-packages/pyspark/python/lib/pyspark.zip/pyspark/worker.py\", line 663, in main\n",
      "    if read_int(infile) == SpecialLengths.END_OF_STREAM:\n",
      "  File \"/usr/local/lib/python3.9/site-packages/pyspark/python/lib/pyspark.zip/pyspark/serializers.py\", line 564, in read_int\n",
      "    raise EOFError\n",
      "EOFError\n",
      "Traceback (most recent call last):\n",
      "  File \"/usr/local/lib/python3.9/site-packages/pyspark/python/lib/pyspark.zip/pyspark/daemon.py\", line 186, in manager\n",
      "  File \"/usr/local/lib/python3.9/site-packages/pyspark/python/lib/pyspark.zip/pyspark/daemon.py\", line 74, in worker\n",
      "  File \"/usr/local/lib/python3.9/site-packages/pyspark/python/lib/pyspark.zip/pyspark/worker.py\", line 663, in main\n",
      "    if read_int(infile) == SpecialLengths.END_OF_STREAM:\n",
      "  File \"/usr/local/lib/python3.9/site-packages/pyspark/python/lib/pyspark.zip/pyspark/serializers.py\", line 564, in read_int\n",
      "    raise EOFError\n",
      "EOFError\n",
      "                                                                                \r"
     ]
    },
    {
     "data": {
      "text/html": [
       "<div>\n",
       "<style scoped>\n",
       "    .dataframe tbody tr th:only-of-type {\n",
       "        vertical-align: middle;\n",
       "    }\n",
       "\n",
       "    .dataframe tbody tr th {\n",
       "        vertical-align: top;\n",
       "    }\n",
       "\n",
       "    .dataframe thead th {\n",
       "        text-align: right;\n",
       "    }\n",
       "</style>\n",
       "<table border=\"1\" class=\"dataframe\">\n",
       "  <thead>\n",
       "    <tr style=\"text-align: right;\">\n",
       "      <th></th>\n",
       "      <th>Body</th>\n",
       "      <th>Id</th>\n",
       "      <th>Tags</th>\n",
       "      <th>Title</th>\n",
       "      <th>oneTag</th>\n",
       "      <th>Desc</th>\n",
       "      <th>words</th>\n",
       "      <th>DescLength</th>\n",
       "      <th>DescVec</th>\n",
       "      <th>NumTags</th>\n",
       "    </tr>\n",
       "  </thead>\n",
       "  <tbody>\n",
       "    <tr>\n",
       "      <th>0</th>\n",
       "      <td>&lt;p&gt;I'd like to check if an uploaded file is an...</td>\n",
       "      <td>1</td>\n",
       "      <td>php image-processing file-upload upload mime-t...</td>\n",
       "      <td>How to check if an uploaded file is an image w...</td>\n",
       "      <td>php</td>\n",
       "      <td>How to check if an uploaded file is an image w...</td>\n",
       "      <td>[how, to, check, if, an, uploaded, file, is, a...</td>\n",
       "      <td>96</td>\n",
       "      <td>[96.0]</td>\n",
       "      <td>5</td>\n",
       "    </tr>\n",
       "    <tr>\n",
       "      <th>1</th>\n",
       "      <td>&lt;p&gt;In my favorite editor (vim), I regularly us...</td>\n",
       "      <td>2</td>\n",
       "      <td>firefox</td>\n",
       "      <td>How can I prevent firefox from closing when I ...</td>\n",
       "      <td>firefox</td>\n",
       "      <td>How can I prevent firefox from closing when I ...</td>\n",
       "      <td>[how, can, i, prevent, firefox, from, closing,...</td>\n",
       "      <td>83</td>\n",
       "      <td>[83.0]</td>\n",
       "      <td>1</td>\n",
       "    </tr>\n",
       "    <tr>\n",
       "      <th>2</th>\n",
       "      <td>&lt;p&gt;I am import matlab file and construct a dat...</td>\n",
       "      <td>3</td>\n",
       "      <td>r matlab machine-learning</td>\n",
       "      <td>R Error Invalid type (list) for variable</td>\n",
       "      <td>r</td>\n",
       "      <td>R Error Invalid type (list) for variable &lt;p&gt;I ...</td>\n",
       "      <td>[r, error, invalid, type, list, for, variable,...</td>\n",
       "      <td>3168</td>\n",
       "      <td>[3168.0]</td>\n",
       "      <td>3</td>\n",
       "    </tr>\n",
       "    <tr>\n",
       "      <th>3</th>\n",
       "      <td>&lt;p&gt;This is probably very simple, but I simply ...</td>\n",
       "      <td>4</td>\n",
       "      <td>c# url encoding</td>\n",
       "      <td>How do I replace special characters in a URL?</td>\n",
       "      <td>c#</td>\n",
       "      <td>How do I replace special characters in a URL? ...</td>\n",
       "      <td>[how, do, i, replace, special, characters, in,...</td>\n",
       "      <td>124</td>\n",
       "      <td>[124.0]</td>\n",
       "      <td>3</td>\n",
       "    </tr>\n",
       "    <tr>\n",
       "      <th>4</th>\n",
       "      <td>&lt;pre&gt;&lt;code&gt;function modify(.......)\\n{\\n  $mco...</td>\n",
       "      <td>5</td>\n",
       "      <td>php api file-get-contents</td>\n",
       "      <td>How to modify whois contact details?</td>\n",
       "      <td>php</td>\n",
       "      <td>How to modify whois contact details? &lt;pre&gt;&lt;cod...</td>\n",
       "      <td>[how, to, modify, whois, contact, details, pre...</td>\n",
       "      <td>154</td>\n",
       "      <td>[154.0]</td>\n",
       "      <td>3</td>\n",
       "    </tr>\n",
       "  </tbody>\n",
       "</table>\n",
       "</div>"
      ],
      "text/plain": [
       "                                                Body  Id  \\\n",
       "0  <p>I'd like to check if an uploaded file is an...   1   \n",
       "1  <p>In my favorite editor (vim), I regularly us...   2   \n",
       "2  <p>I am import matlab file and construct a dat...   3   \n",
       "3  <p>This is probably very simple, but I simply ...   4   \n",
       "4  <pre><code>function modify(.......)\\n{\\n  $mco...   5   \n",
       "\n",
       "                                                Tags  \\\n",
       "0  php image-processing file-upload upload mime-t...   \n",
       "1                                            firefox   \n",
       "2                          r matlab machine-learning   \n",
       "3                                    c# url encoding   \n",
       "4                          php api file-get-contents   \n",
       "\n",
       "                                               Title   oneTag  \\\n",
       "0  How to check if an uploaded file is an image w...      php   \n",
       "1  How can I prevent firefox from closing when I ...  firefox   \n",
       "2           R Error Invalid type (list) for variable        r   \n",
       "3      How do I replace special characters in a URL?       c#   \n",
       "4               How to modify whois contact details?      php   \n",
       "\n",
       "                                                Desc  \\\n",
       "0  How to check if an uploaded file is an image w...   \n",
       "1  How can I prevent firefox from closing when I ...   \n",
       "2  R Error Invalid type (list) for variable <p>I ...   \n",
       "3  How do I replace special characters in a URL? ...   \n",
       "4  How to modify whois contact details? <pre><cod...   \n",
       "\n",
       "                                               words  DescLength   DescVec  \\\n",
       "0  [how, to, check, if, an, uploaded, file, is, a...          96    [96.0]   \n",
       "1  [how, can, i, prevent, firefox, from, closing,...          83    [83.0]   \n",
       "2  [r, error, invalid, type, list, for, variable,...        3168  [3168.0]   \n",
       "3  [how, do, i, replace, special, characters, in,...         124   [124.0]   \n",
       "4  [how, to, modify, whois, contact, details, pre...         154   [154.0]   \n",
       "\n",
       "   NumTags  \n",
       "0        5  \n",
       "1        1  \n",
       "2        3  \n",
       "3        3  \n",
       "4        3  "
      ]
     },
     "execution_count": 10,
     "metadata": {},
     "output_type": "execute_result"
    }
   ],
   "source": [
    "df.select(\"*\").limit(5).toPandas()"
   ]
  },
  {
   "cell_type": "markdown",
   "metadata": {},
   "source": [
    "# Question 1\n",
    "How many times greater is the Description Length of the longest question than the Description Length of the shortest question (rounded to the nearest whole number)?\n",
    "\n",
    "Tip: Don't forget to import Spark SQL's aggregate functions that can operate on DataFrame columns."
   ]
  },
  {
   "cell_type": "code",
   "execution_count": 11,
   "metadata": {},
   "outputs": [
    {
     "name": "stderr",
     "output_type": "stream",
     "text": [
      "[Stage 2:>                                                          (0 + 1) / 1]\r"
     ]
    },
    {
     "name": "stdout",
     "output_type": "stream",
     "text": [
      "+---------------+---------------+\n",
      "|max(DescLength)|min(DescLength)|\n",
      "+---------------+---------------+\n",
      "|           7532|             10|\n",
      "+---------------+---------------+\n",
      "\n"
     ]
    },
    {
     "name": "stderr",
     "output_type": "stream",
     "text": [
      "                                                                                \r"
     ]
    }
   ],
   "source": [
    "# TODO: write your code to answer this question\n",
    "df.agg(max(\"DescLength\"), min(\"DescLength\")).show()"
   ]
  },
  {
   "cell_type": "code",
   "execution_count": 12,
   "metadata": {},
   "outputs": [
    {
     "data": {
      "text/plain": [
       "753.2"
      ]
     },
     "execution_count": 12,
     "metadata": {},
     "output_type": "execute_result"
    }
   ],
   "source": [
    "7532 / 10"
   ]
  },
  {
   "cell_type": "markdown",
   "metadata": {},
   "source": [
    "# Question 2\n",
    "What is the mean and standard deviation of the Description length?"
   ]
  },
  {
   "cell_type": "code",
   "execution_count": 13,
   "metadata": {},
   "outputs": [
    {
     "name": "stderr",
     "output_type": "stream",
     "text": [
      "[Stage 5:>                                                          (0 + 1) / 1]\r"
     ]
    },
    {
     "name": "stdout",
     "output_type": "stream",
     "text": [
      "+---------------+-----------------------+\n",
      "|avg(DescLength)|stddev_samp(DescLength)|\n",
      "+---------------+-----------------------+\n",
      "|      180.28187|     192.10819533505023|\n",
      "+---------------+-----------------------+\n",
      "\n"
     ]
    },
    {
     "name": "stderr",
     "output_type": "stream",
     "text": [
      "                                                                                \r"
     ]
    }
   ],
   "source": [
    "# TODO: write your code to answer this question\n",
    "df.agg(avg(\"DescLength\"), stddev(\"DescLength\")).show()"
   ]
  },
  {
   "cell_type": "code",
   "execution_count": null,
   "metadata": {},
   "outputs": [],
   "source": []
  },
  {
   "cell_type": "markdown",
   "metadata": {},
   "source": [
    "# Question 3\n",
    "Let's use K-means to create 5 clusters of Description lengths. Set the random seed to 42 and fit a 5-class K-means model on the Description length column (you can use KMeans().setParams(...) ). What length is the center of the cluster representing the longest questions?"
   ]
  },
  {
   "cell_type": "code",
   "execution_count": 14,
   "metadata": {},
   "outputs": [
    {
     "name": "stderr",
     "output_type": "stream",
     "text": [
      "                                                                                \r"
     ]
    }
   ],
   "source": [
    "# TODO: write your code to answer this question\n",
    "kmeans = KMeans(seed=42, k=5, featuresCol=\"DescVec\", predictionCol=\"DescGroup\")\n",
    "kmeans_model = kmeans.fit(df)\n",
    "df = kmeans_model.transform(df)"
   ]
  },
  {
   "cell_type": "code",
   "execution_count": 15,
   "metadata": {},
   "outputs": [
    {
     "name": "stderr",
     "output_type": "stream",
     "text": [
      "Traceback (most recent call last):                                  (0 + 1) / 1]\n",
      "  File \"/usr/local/lib/python3.9/site-packages/pyspark/python/lib/pyspark.zip/pyspark/daemon.py\", line 186, in manager\n",
      "  File \"/usr/local/lib/python3.9/site-packages/pyspark/python/lib/pyspark.zip/pyspark/daemon.py\", line 74, in worker\n",
      "  File \"/usr/local/lib/python3.9/site-packages/pyspark/python/lib/pyspark.zip/pyspark/worker.py\", line 663, in main\n",
      "    if read_int(infile) == SpecialLengths.END_OF_STREAM:\n",
      "  File \"/usr/local/lib/python3.9/site-packages/pyspark/python/lib/pyspark.zip/pyspark/serializers.py\", line 564, in read_int\n",
      "    raise EOFError\n",
      "EOFError\n",
      "Traceback (most recent call last):\n",
      "  File \"/usr/local/lib/python3.9/site-packages/pyspark/python/lib/pyspark.zip/pyspark/daemon.py\", line 186, in manager\n",
      "  File \"/usr/local/lib/python3.9/site-packages/pyspark/python/lib/pyspark.zip/pyspark/daemon.py\", line 74, in worker\n",
      "  File \"/usr/local/lib/python3.9/site-packages/pyspark/python/lib/pyspark.zip/pyspark/worker.py\", line 663, in main\n",
      "    if read_int(infile) == SpecialLengths.END_OF_STREAM:\n",
      "  File \"/usr/local/lib/python3.9/site-packages/pyspark/python/lib/pyspark.zip/pyspark/serializers.py\", line 564, in read_int\n",
      "    raise EOFError\n",
      "EOFError\n",
      "                                                                                \r"
     ]
    },
    {
     "data": {
      "text/html": [
       "<div>\n",
       "<style scoped>\n",
       "    .dataframe tbody tr th:only-of-type {\n",
       "        vertical-align: middle;\n",
       "    }\n",
       "\n",
       "    .dataframe tbody tr th {\n",
       "        vertical-align: top;\n",
       "    }\n",
       "\n",
       "    .dataframe thead th {\n",
       "        text-align: right;\n",
       "    }\n",
       "</style>\n",
       "<table border=\"1\" class=\"dataframe\">\n",
       "  <thead>\n",
       "    <tr style=\"text-align: right;\">\n",
       "      <th></th>\n",
       "      <th>Body</th>\n",
       "      <th>Id</th>\n",
       "      <th>Tags</th>\n",
       "      <th>Title</th>\n",
       "      <th>oneTag</th>\n",
       "      <th>Desc</th>\n",
       "      <th>words</th>\n",
       "      <th>DescLength</th>\n",
       "      <th>DescVec</th>\n",
       "      <th>NumTags</th>\n",
       "      <th>DescGroup</th>\n",
       "    </tr>\n",
       "  </thead>\n",
       "  <tbody>\n",
       "    <tr>\n",
       "      <th>0</th>\n",
       "      <td>&lt;p&gt;I'd like to check if an uploaded file is an...</td>\n",
       "      <td>1</td>\n",
       "      <td>php image-processing file-upload upload mime-t...</td>\n",
       "      <td>How to check if an uploaded file is an image w...</td>\n",
       "      <td>php</td>\n",
       "      <td>How to check if an uploaded file is an image w...</td>\n",
       "      <td>[how, to, check, if, an, uploaded, file, is, a...</td>\n",
       "      <td>96</td>\n",
       "      <td>[96.0]</td>\n",
       "      <td>5</td>\n",
       "      <td>0</td>\n",
       "    </tr>\n",
       "    <tr>\n",
       "      <th>1</th>\n",
       "      <td>&lt;p&gt;In my favorite editor (vim), I regularly us...</td>\n",
       "      <td>2</td>\n",
       "      <td>firefox</td>\n",
       "      <td>How can I prevent firefox from closing when I ...</td>\n",
       "      <td>firefox</td>\n",
       "      <td>How can I prevent firefox from closing when I ...</td>\n",
       "      <td>[how, can, i, prevent, firefox, from, closing,...</td>\n",
       "      <td>83</td>\n",
       "      <td>[83.0]</td>\n",
       "      <td>1</td>\n",
       "      <td>0</td>\n",
       "    </tr>\n",
       "    <tr>\n",
       "      <th>2</th>\n",
       "      <td>&lt;p&gt;I am import matlab file and construct a dat...</td>\n",
       "      <td>3</td>\n",
       "      <td>r matlab machine-learning</td>\n",
       "      <td>R Error Invalid type (list) for variable</td>\n",
       "      <td>r</td>\n",
       "      <td>R Error Invalid type (list) for variable &lt;p&gt;I ...</td>\n",
       "      <td>[r, error, invalid, type, list, for, variable,...</td>\n",
       "      <td>3168</td>\n",
       "      <td>[3168.0]</td>\n",
       "      <td>3</td>\n",
       "      <td>2</td>\n",
       "    </tr>\n",
       "    <tr>\n",
       "      <th>3</th>\n",
       "      <td>&lt;p&gt;This is probably very simple, but I simply ...</td>\n",
       "      <td>4</td>\n",
       "      <td>c# url encoding</td>\n",
       "      <td>How do I replace special characters in a URL?</td>\n",
       "      <td>c#</td>\n",
       "      <td>How do I replace special characters in a URL? ...</td>\n",
       "      <td>[how, do, i, replace, special, characters, in,...</td>\n",
       "      <td>124</td>\n",
       "      <td>[124.0]</td>\n",
       "      <td>3</td>\n",
       "      <td>0</td>\n",
       "    </tr>\n",
       "    <tr>\n",
       "      <th>4</th>\n",
       "      <td>&lt;pre&gt;&lt;code&gt;function modify(.......)\\n{\\n  $mco...</td>\n",
       "      <td>5</td>\n",
       "      <td>php api file-get-contents</td>\n",
       "      <td>How to modify whois contact details?</td>\n",
       "      <td>php</td>\n",
       "      <td>How to modify whois contact details? &lt;pre&gt;&lt;cod...</td>\n",
       "      <td>[how, to, modify, whois, contact, details, pre...</td>\n",
       "      <td>154</td>\n",
       "      <td>[154.0]</td>\n",
       "      <td>3</td>\n",
       "      <td>0</td>\n",
       "    </tr>\n",
       "  </tbody>\n",
       "</table>\n",
       "</div>"
      ],
      "text/plain": [
       "                                                Body  Id  \\\n",
       "0  <p>I'd like to check if an uploaded file is an...   1   \n",
       "1  <p>In my favorite editor (vim), I regularly us...   2   \n",
       "2  <p>I am import matlab file and construct a dat...   3   \n",
       "3  <p>This is probably very simple, but I simply ...   4   \n",
       "4  <pre><code>function modify(.......)\\n{\\n  $mco...   5   \n",
       "\n",
       "                                                Tags  \\\n",
       "0  php image-processing file-upload upload mime-t...   \n",
       "1                                            firefox   \n",
       "2                          r matlab machine-learning   \n",
       "3                                    c# url encoding   \n",
       "4                          php api file-get-contents   \n",
       "\n",
       "                                               Title   oneTag  \\\n",
       "0  How to check if an uploaded file is an image w...      php   \n",
       "1  How can I prevent firefox from closing when I ...  firefox   \n",
       "2           R Error Invalid type (list) for variable        r   \n",
       "3      How do I replace special characters in a URL?       c#   \n",
       "4               How to modify whois contact details?      php   \n",
       "\n",
       "                                                Desc  \\\n",
       "0  How to check if an uploaded file is an image w...   \n",
       "1  How can I prevent firefox from closing when I ...   \n",
       "2  R Error Invalid type (list) for variable <p>I ...   \n",
       "3  How do I replace special characters in a URL? ...   \n",
       "4  How to modify whois contact details? <pre><cod...   \n",
       "\n",
       "                                               words  DescLength   DescVec  \\\n",
       "0  [how, to, check, if, an, uploaded, file, is, a...          96    [96.0]   \n",
       "1  [how, can, i, prevent, firefox, from, closing,...          83    [83.0]   \n",
       "2  [r, error, invalid, type, list, for, variable,...        3168  [3168.0]   \n",
       "3  [how, do, i, replace, special, characters, in,...         124   [124.0]   \n",
       "4  [how, to, modify, whois, contact, details, pre...         154   [154.0]   \n",
       "\n",
       "   NumTags  DescGroup  \n",
       "0        5          0  \n",
       "1        1          0  \n",
       "2        3          2  \n",
       "3        3          0  \n",
       "4        3          0  "
      ]
     },
     "execution_count": 15,
     "metadata": {},
     "output_type": "execute_result"
    }
   ],
   "source": [
    "df.select(\"*\").limit(5).toPandas()"
   ]
  },
  {
   "cell_type": "code",
   "execution_count": 16,
   "metadata": {},
   "outputs": [
    {
     "name": "stderr",
     "output_type": "stream",
     "text": [
      "[Stage 60:>                                                         (0 + 1) / 1]\r"
     ]
    },
    {
     "name": "stdout",
     "output_type": "stream",
     "text": [
      "+---------+------------------+------------------+-----------------+\n",
      "|DescGroup|   avg(DescLength)|      avg(NumTags)|count(DescLength)|\n",
      "+---------+------------------+------------------+-----------------+\n",
      "|        0| 96.02297592997812|2.7428884026258205|            63066|\n",
      "|        4|238.22969197457567|3.0864357058042886|            28634|\n",
      "|        1|    492.6833982403|3.2330881292369824|             6933|\n",
      "|        3|1062.4118629908103|3.2957393483709274|             1197|\n",
      "|        2|2726.1882352941175|3.4235294117647057|              170|\n",
      "+---------+------------------+------------------+-----------------+\n",
      "\n"
     ]
    },
    {
     "name": "stderr",
     "output_type": "stream",
     "text": [
      "                                                                                \r"
     ]
    }
   ],
   "source": [
    "df.groupBy(\"DescGroup\").agg(avg(\"DescLength\"), avg(\"NumTags\"), count(\"DescLength\")).orderBy(\"avg(DescLength)\").show()"
   ]
  },
  {
   "cell_type": "code",
   "execution_count": null,
   "metadata": {},
   "outputs": [],
   "source": []
  }
 ],
 "metadata": {
  "kernelspec": {
   "display_name": "Python 3 (ipykernel)",
   "language": "python",
   "name": "python3"
  },
  "language_info": {
   "codemirror_mode": {
    "name": "ipython",
    "version": 3
   },
   "file_extension": ".py",
   "mimetype": "text/x-python",
   "name": "python",
   "nbconvert_exporter": "python",
   "pygments_lexer": "ipython3",
   "version": "3.9.9"
  }
 },
 "nbformat": 4,
 "nbformat_minor": 4
}
