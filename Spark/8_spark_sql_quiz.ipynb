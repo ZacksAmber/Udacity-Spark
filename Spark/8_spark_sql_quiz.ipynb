{
 "cells": [
  {
   "cell_type": "markdown",
   "metadata": {},
   "source": [
    "# Data Wrangling with Spark SQL Quiz\n",
    "\n",
    "This quiz uses the same dataset and most of the same questions from the earlier \"Quiz - Data Wrangling with Data Frames Jupyter Notebook.\" For this quiz, however, use Spark SQL instead of Spark Data Frames."
   ]
  },
  {
   "cell_type": "code",
   "execution_count": 1,
   "metadata": {},
   "outputs": [],
   "source": [
    "from pyspark.sql import SparkSession\n",
    "from pyspark.sql.types import IntegerType\n",
    "from pyspark.sql.window import Window\n",
    "import pyspark.sql.functions as F\n",
    "\n",
    "# TODOS: \n",
    "# 1) import any other libraries you might need\n",
    "# 2) instantiate a Spark session \n",
    "spark = SparkSession.builder.appName(\"Quiz\").getOrCreate()\n",
    "\n",
    "# 3) read in the data set located at the path \"data/sparkify_log_small.json\"\n",
    "path = \"data/sparkify_log_small.json\"\n",
    "user_log = spark.read.json(path)\n",
    "\n",
    "# 4) write code to answer the quiz questions "
   ]
  },
  {
   "cell_type": "code",
   "execution_count": 2,
   "metadata": {},
   "outputs": [],
   "source": [
    "# Register the DataFrame as a SQL temporary view\n",
    "user_log.createOrReplaceTempView(\"user_log_view\")"
   ]
  },
  {
   "cell_type": "markdown",
   "metadata": {},
   "source": [
    "# Question 1\n",
    "\n",
    "Which page did user id \"\" (empty string) NOT visit?<br>\n",
    "<input type='checkbox'> About</input><br>\n",
    "<input type='checkbox'> Home</input><br>\n",
    "<input type='checkbox'> Login</input><br>\n",
    "<input type='checkbox' checked> NextSong</input>"
   ]
  },
  {
   "cell_type": "code",
   "execution_count": 3,
   "metadata": {},
   "outputs": [
    {
     "name": "stdout",
     "output_type": "stream",
     "text": [
      "+-----+\n",
      "| page|\n",
      "+-----+\n",
      "| Home|\n",
      "|About|\n",
      "|Login|\n",
      "| Help|\n",
      "+-----+\n",
      "\n"
     ]
    }
   ],
   "source": [
    "# TODO: write your code to answer question 1\n",
    "spark.sql(\"\"\"\n",
    "SELECT DISTINCT page\n",
    "FROM user_log_view\n",
    "WHERE userId = \"\"\n",
    "\"\"\").show()"
   ]
  },
  {
   "cell_type": "markdown",
   "metadata": {},
   "source": [
    "# Question 2 - Reflect\n",
    "\n",
    "Why might you prefer to use SQL over data frames? Why might you prefer data frames over SQL?\n",
    "\n",
    "Friendly for reusing and applying functions."
   ]
  },
  {
   "cell_type": "markdown",
   "metadata": {},
   "source": [
    "# Question 3\n",
    "\n",
    "How many female users do we have in the data set?<br>\n",
    "<input type='checkbox' checked> 462</input><br>\n",
    "<input type='checkbox'> 501</input><br>\n",
    "<input type='checkbox'> 3820</input><br>\n",
    "<input type='checkbox'> 5844</input>"
   ]
  },
  {
   "cell_type": "code",
   "execution_count": 4,
   "metadata": {},
   "outputs": [
    {
     "name": "stdout",
     "output_type": "stream",
     "text": [
      "+--------------------+\n",
      "|nunique female users|\n",
      "+--------------------+\n",
      "|                 462|\n",
      "+--------------------+\n",
      "\n"
     ]
    }
   ],
   "source": [
    "# TODO: write your code to answer question 3\n",
    "spark.sql(\n",
    "\"\"\"\n",
    "SELECT COUNT(DISTINCT userId) AS `nunique female users`\n",
    "FROM user_log_view\n",
    "WHERE gender = \"F\"\n",
    "\"\"\"\n",
    ").show()"
   ]
  },
  {
   "cell_type": "markdown",
   "metadata": {},
   "source": [
    "# Question 4\n",
    "\n",
    "How many songs were played from the most played artist?"
   ]
  },
  {
   "cell_type": "code",
   "execution_count": 5,
   "metadata": {},
   "outputs": [
    {
     "name": "stdout",
     "output_type": "stream",
     "text": [
      "+--------+-----------+\n",
      "|  artist|Artistcount|\n",
      "+--------+-----------+\n",
      "|Coldplay|         83|\n",
      "+--------+-----------+\n",
      "\n"
     ]
    }
   ],
   "source": [
    "# TODO: write your code to answer question 4\n",
    "spark.sql(\n",
    "\"\"\"\n",
    "SELECT artist, COUNT(song) AS Artistcount\n",
    "FROM user_log_view\n",
    "WHERE page = 'NextSong'\n",
    "GROUP BY artist\n",
    "ORDER BY 2 DESC\n",
    "LIMIT 1\n",
    "\"\"\"\n",
    ").show()"
   ]
  },
  {
   "cell_type": "markdown",
   "metadata": {},
   "source": [
    "# Question 5 (challenge)\n",
    "\n",
    "How many songs do users listen to on average between visiting our home page? Please round your answer to the closest integer.<br>\n",
    "<input type='checkbox'> 5</input><br>\n",
    "<input type='checkbox' checked> 7</input><br>\n",
    "<input type='checkbox'> 9</input><br>\n",
    "<input type='checkbox'> 11</input>"
   ]
  },
  {
   "cell_type": "code",
   "execution_count": 6,
   "metadata": {},
   "outputs": [
    {
     "data": {
      "text/html": [
       "<div>\n",
       "<style scoped>\n",
       "    .dataframe tbody tr th:only-of-type {\n",
       "        vertical-align: middle;\n",
       "    }\n",
       "\n",
       "    .dataframe tbody tr th {\n",
       "        vertical-align: top;\n",
       "    }\n",
       "\n",
       "    .dataframe thead th {\n",
       "        text-align: right;\n",
       "    }\n",
       "</style>\n",
       "<table border=\"1\" class=\"dataframe\">\n",
       "  <thead>\n",
       "    <tr style=\"text-align: right;\">\n",
       "      <th></th>\n",
       "      <th>avg(count_period)</th>\n",
       "    </tr>\n",
       "  </thead>\n",
       "  <tbody>\n",
       "    <tr>\n",
       "      <th>0</th>\n",
       "      <td>6.898347</td>\n",
       "    </tr>\n",
       "  </tbody>\n",
       "</table>\n",
       "</div>"
      ],
      "text/plain": [
       "   avg(count_period)\n",
       "0           6.898347"
      ]
     },
     "execution_count": 6,
     "metadata": {},
     "output_type": "execute_result"
    }
   ],
   "source": [
    "# TODO: write your code to answer question 5\n",
    "# Step 1: Flag page as homevisit\n",
    "# Step 2: Cumulate homevisit as period\n",
    "# Step 3: count period where page = 'NextSong'. We filter page != 'Home' because it is the boundary of each Home and NextSong\n",
    "# Step 4: Calculate how many songs do users listen to on average between visiting our home page\n",
    "spark.sql(\"\"\"\n",
    "WITH homevisit_tb AS\n",
    "    (\n",
    "    SELECT \n",
    "        userId, page, ts,\n",
    "        IF(page = 'Home', 1, 0) AS homevisit\n",
    "    FROM user_log_view\n",
    "    WHERE page = 'NextSong'\n",
    "        OR page = 'Home'\n",
    "    ),\n",
    "period_tb AS\n",
    "    (\n",
    "    SELECT\n",
    "        *,\n",
    "        SUM(homevisit) OVER(PARTITION BY userId ORDER BY ts DESC) AS period\n",
    "    FROM homevisit_tb\n",
    "    ),\n",
    "count_period_tb AS\n",
    "    (\n",
    "    SELECT \n",
    "        userId, \n",
    "        period, \n",
    "        COUNT(period) AS count_period\n",
    "    FROM period_tb\n",
    "    WHERE page = 'NextSong'\n",
    "    GROUP BY userId, period\n",
    "    )\n",
    "SELECT AVG(count_period)\n",
    "FROM count_period_tb\n",
    "\"\"\").toPandas()"
   ]
  },
  {
   "cell_type": "code",
   "execution_count": null,
   "metadata": {},
   "outputs": [],
   "source": []
  },
  {
   "cell_type": "code",
   "execution_count": 7,
   "metadata": {},
   "outputs": [],
   "source": [
    "# Define udf for spark.sql\n",
    "spark.udf.register(\"ishome\", lambda page: int(page == 'Home'))\n",
    "\n",
    "# Step 1: Flag page as homevisit\n",
    "\n",
    "# Create a new view table\n",
    "spark.sql(\"\"\"\n",
    "SELECT userId, page, ts, ishome(page) AS homevisit\n",
    "FROM user_log_view\n",
    "\"\"\").createOrReplaceTempView(\"is_home_table\")"
   ]
  },
  {
   "cell_type": "code",
   "execution_count": 8,
   "metadata": {},
   "outputs": [],
   "source": [
    "# Step 2: Cumulate homevisit as period\n",
    "cumulative_sum = spark.sql(\"\"\"\n",
    "        SELECT \n",
    "        *,\n",
    "        SUM(homevisit) OVER(PARTITION BY userId ORDER BY ts DESC) AS period\n",
    "    FROM is_home_table\n",
    "    \"\"\")"
   ]
  },
  {
   "cell_type": "code",
   "execution_count": 9,
   "metadata": {},
   "outputs": [
    {
     "name": "stdout",
     "output_type": "stream",
     "text": [
      "+-----------------+\n",
      "|avg(count_period)|\n",
      "+-----------------+\n",
      "|6.898347107438017|\n",
      "+-----------------+\n",
      "\n"
     ]
    }
   ],
   "source": [
    "# Step 3: count period where page = 'NextSong'. We filter page != 'Home' because it is the boundary of each Home and NextSong\n",
    "# keep the results in a view\n",
    "cumulative_sum.createOrReplaceTempView(\"period_table\")\n",
    "\n",
    "# Step 4: Calculate how many songs do users listen to on average between visiting our home page\n",
    "# find the average count for NextSong\n",
    "spark.sql(\"\"\"\n",
    "WITH count_period AS\n",
    "    (\n",
    "    SELECT \n",
    "        userId, \n",
    "        period, \n",
    "        COUNT(period) AS count_period\n",
    "    FROM period_table\n",
    "    WHERE page = 'NextSong'\n",
    "    GROUP BY userId, period\n",
    "    )\n",
    "SELECT AVG(count_period)\n",
    "FROM count_period\"\"\").show()"
   ]
  },
  {
   "cell_type": "code",
   "execution_count": null,
   "metadata": {},
   "outputs": [],
   "source": []
  }
 ],
 "metadata": {
  "kernelspec": {
   "display_name": "Python 3",
   "language": "python",
   "name": "python3"
  },
  "language_info": {
   "codemirror_mode": {
    "name": "ipython",
    "version": 3
   },
   "file_extension": ".py",
   "mimetype": "text/x-python",
   "name": "python",
   "nbconvert_exporter": "python",
   "pygments_lexer": "ipython3",
   "version": "3.9.4"
  }
 },
 "nbformat": 4,
 "nbformat_minor": 4
}
